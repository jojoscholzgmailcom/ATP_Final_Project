{
 "cells": [
  {
   "cell_type": "code",
   "execution_count": 1,
   "id": "6b785e09",
   "metadata": {},
   "outputs": [],
   "source": [
    "import pandas as pd\n",
    "import statsmodels.api as sm\n",
    "from statsmodels.graphics.gofplots import qqplot\n",
    "\n",
    "from sklearn.preprocessing import StandardScaler, PolynomialFeatures\n",
    "from sklearn.pipeline import Pipeline\n",
    "\n",
    "import matplotlib.pyplot as plt"
   ]
  },
  {
   "cell_type": "markdown",
   "id": "ce64c229",
   "metadata": {},
   "source": [
    "Read the data from the .csv file into a `pandas.Dataframe`"
   ]
  },
  {
   "cell_type": "code",
   "execution_count": 2,
   "id": "703b66e2",
   "metadata": {},
   "outputs": [
    {
     "data": {
      "text/plain": [
       "(1866783, 7)"
      ]
     },
     "execution_count": 2,
     "metadata": {},
     "output_type": "execute_result"
    }
   ],
   "source": [
    "df = pd.read_csv(\"data.csv\")\n",
    "df.shape"
   ]
  },
  {
   "cell_type": "code",
   "execution_count": 3,
   "id": "05223b37",
   "metadata": {},
   "outputs": [
    {
     "data": {
      "text/html": [
       "<div>\n",
       "<style scoped>\n",
       "    .dataframe tbody tr th:only-of-type {\n",
       "        vertical-align: middle;\n",
       "    }\n",
       "\n",
       "    .dataframe tbody tr th {\n",
       "        vertical-align: top;\n",
       "    }\n",
       "\n",
       "    .dataframe thead th {\n",
       "        text-align: right;\n",
       "    }\n",
       "</style>\n",
       "<table border=\"1\" class=\"dataframe\">\n",
       "  <thead>\n",
       "    <tr style=\"text-align: right;\">\n",
       "      <th></th>\n",
       "      <th>[run number]</th>\n",
       "      <th>isolation-chance</th>\n",
       "      <th>vaccination-start</th>\n",
       "      <th>wearing-mask-chance</th>\n",
       "      <th>[step]</th>\n",
       "      <th>deaths</th>\n",
       "      <th>r0</th>\n",
       "    </tr>\n",
       "  </thead>\n",
       "  <tbody>\n",
       "    <tr>\n",
       "      <th>0</th>\n",
       "      <td>2</td>\n",
       "      <td>0</td>\n",
       "      <td>0</td>\n",
       "      <td>0</td>\n",
       "      <td>0</td>\n",
       "      <td>0</td>\n",
       "      <td>0.0</td>\n",
       "    </tr>\n",
       "    <tr>\n",
       "      <th>1</th>\n",
       "      <td>5</td>\n",
       "      <td>0</td>\n",
       "      <td>0</td>\n",
       "      <td>0</td>\n",
       "      <td>0</td>\n",
       "      <td>0</td>\n",
       "      <td>0.0</td>\n",
       "    </tr>\n",
       "    <tr>\n",
       "      <th>2</th>\n",
       "      <td>7</td>\n",
       "      <td>0</td>\n",
       "      <td>0</td>\n",
       "      <td>0</td>\n",
       "      <td>0</td>\n",
       "      <td>0</td>\n",
       "      <td>0.0</td>\n",
       "    </tr>\n",
       "    <tr>\n",
       "      <th>3</th>\n",
       "      <td>3</td>\n",
       "      <td>0</td>\n",
       "      <td>0</td>\n",
       "      <td>0</td>\n",
       "      <td>0</td>\n",
       "      <td>0</td>\n",
       "      <td>0.0</td>\n",
       "    </tr>\n",
       "    <tr>\n",
       "      <th>4</th>\n",
       "      <td>4</td>\n",
       "      <td>0</td>\n",
       "      <td>0</td>\n",
       "      <td>0</td>\n",
       "      <td>0</td>\n",
       "      <td>0</td>\n",
       "      <td>0.0</td>\n",
       "    </tr>\n",
       "  </tbody>\n",
       "</table>\n",
       "</div>"
      ],
      "text/plain": [
       "   [run number]  isolation-chance  vaccination-start  wearing-mask-chance  \\\n",
       "0             2                 0                  0                    0   \n",
       "1             5                 0                  0                    0   \n",
       "2             7                 0                  0                    0   \n",
       "3             3                 0                  0                    0   \n",
       "4             4                 0                  0                    0   \n",
       "\n",
       "   [step]  deaths   r0  \n",
       "0       0       0  0.0  \n",
       "1       0       0  0.0  \n",
       "2       0       0  0.0  \n",
       "3       0       0  0.0  \n",
       "4       0       0  0.0  "
      ]
     },
     "execution_count": 3,
     "metadata": {},
     "output_type": "execute_result"
    }
   ],
   "source": [
    "df.head()"
   ]
  },
  {
   "cell_type": "markdown",
   "id": "665dad31",
   "metadata": {},
   "source": [
    "Extract the data that is only relevant for the deaths. That is, we are only interested in the total number of dead people after every simulation. We can just take the maximal deaths count for every iteration."
   ]
  },
  {
   "cell_type": "code",
   "execution_count": 4,
   "id": "581dabc0",
   "metadata": {},
   "outputs": [
    {
     "data": {
      "text/html": [
       "<div>\n",
       "<style scoped>\n",
       "    .dataframe tbody tr th:only-of-type {\n",
       "        vertical-align: middle;\n",
       "    }\n",
       "\n",
       "    .dataframe tbody tr th {\n",
       "        vertical-align: top;\n",
       "    }\n",
       "\n",
       "    .dataframe thead th {\n",
       "        text-align: right;\n",
       "    }\n",
       "</style>\n",
       "<table border=\"1\" class=\"dataframe\">\n",
       "  <thead>\n",
       "    <tr style=\"text-align: right;\">\n",
       "      <th></th>\n",
       "      <th>isolation-chance</th>\n",
       "      <th>vaccination-start</th>\n",
       "      <th>wearing-mask-chance</th>\n",
       "      <th>deaths</th>\n",
       "    </tr>\n",
       "  </thead>\n",
       "  <tbody>\n",
       "    <tr>\n",
       "      <th>0</th>\n",
       "      <td>0</td>\n",
       "      <td>0</td>\n",
       "      <td>0</td>\n",
       "      <td>36</td>\n",
       "    </tr>\n",
       "    <tr>\n",
       "      <th>1</th>\n",
       "      <td>0</td>\n",
       "      <td>0</td>\n",
       "      <td>0</td>\n",
       "      <td>26</td>\n",
       "    </tr>\n",
       "    <tr>\n",
       "      <th>2</th>\n",
       "      <td>0</td>\n",
       "      <td>0</td>\n",
       "      <td>0</td>\n",
       "      <td>41</td>\n",
       "    </tr>\n",
       "    <tr>\n",
       "      <th>3</th>\n",
       "      <td>0</td>\n",
       "      <td>0</td>\n",
       "      <td>0</td>\n",
       "      <td>35</td>\n",
       "    </tr>\n",
       "    <tr>\n",
       "      <th>4</th>\n",
       "      <td>0</td>\n",
       "      <td>0</td>\n",
       "      <td>0</td>\n",
       "      <td>29</td>\n",
       "    </tr>\n",
       "    <tr>\n",
       "      <th>...</th>\n",
       "      <td>...</td>\n",
       "      <td>...</td>\n",
       "      <td>...</td>\n",
       "      <td>...</td>\n",
       "    </tr>\n",
       "    <tr>\n",
       "      <th>9675</th>\n",
       "      <td>100</td>\n",
       "      <td>210</td>\n",
       "      <td>100</td>\n",
       "      <td>7</td>\n",
       "    </tr>\n",
       "    <tr>\n",
       "      <th>9676</th>\n",
       "      <td>100</td>\n",
       "      <td>210</td>\n",
       "      <td>100</td>\n",
       "      <td>3</td>\n",
       "    </tr>\n",
       "    <tr>\n",
       "      <th>9677</th>\n",
       "      <td>100</td>\n",
       "      <td>210</td>\n",
       "      <td>100</td>\n",
       "      <td>4</td>\n",
       "    </tr>\n",
       "    <tr>\n",
       "      <th>9678</th>\n",
       "      <td>100</td>\n",
       "      <td>210</td>\n",
       "      <td>100</td>\n",
       "      <td>4</td>\n",
       "    </tr>\n",
       "    <tr>\n",
       "      <th>9679</th>\n",
       "      <td>100</td>\n",
       "      <td>210</td>\n",
       "      <td>100</td>\n",
       "      <td>1</td>\n",
       "    </tr>\n",
       "  </tbody>\n",
       "</table>\n",
       "<p>9680 rows × 4 columns</p>\n",
       "</div>"
      ],
      "text/plain": [
       "      isolation-chance  vaccination-start  wearing-mask-chance  deaths\n",
       "0                    0                  0                    0      36\n",
       "1                    0                  0                    0      26\n",
       "2                    0                  0                    0      41\n",
       "3                    0                  0                    0      35\n",
       "4                    0                  0                    0      29\n",
       "...                ...                ...                  ...     ...\n",
       "9675               100                210                  100       7\n",
       "9676               100                210                  100       3\n",
       "9677               100                210                  100       4\n",
       "9678               100                210                  100       4\n",
       "9679               100                210                  100       1\n",
       "\n",
       "[9680 rows x 4 columns]"
      ]
     },
     "execution_count": 4,
     "metadata": {},
     "output_type": "execute_result"
    }
   ],
   "source": [
    "deaths_df = df.groupby(\n",
    "    [\"[run number]\", \"isolation-chance\", \"vaccination-start\", \"wearing-mask-chance\"]\n",
    ")[\"deaths\"].max()\n",
    "deaths_df = deaths_df.reset_index().drop(\"[run number]\", axis = 1)\n",
    "deaths_df"
   ]
  },
  {
   "cell_type": "markdown",
   "id": "29c04c40",
   "metadata": {},
   "source": [
    "The dataset is reduced to 9680 (compared to 1866783). To preprocess the input features, we can standardize them (mean = 0, std = 1) and compute their interactions."
   ]
  },
  {
   "cell_type": "code",
   "execution_count": 5,
   "id": "0bd236cc",
   "metadata": {},
   "outputs": [],
   "source": [
    "pipeline = Pipeline([\n",
    "    ('scaler', StandardScaler()),\n",
    "    ('poly', PolynomialFeatures(degree = 2, interaction_only = True))\n",
    "])"
   ]
  },
  {
   "cell_type": "markdown",
   "id": "5c58cbe8",
   "metadata": {},
   "source": [
    "Split the data into the independent variables (X) and the dependent variable (y)."
   ]
  },
  {
   "cell_type": "code",
   "execution_count": 6,
   "id": "271da677",
   "metadata": {},
   "outputs": [],
   "source": [
    "X, y = deaths_df.drop(\"deaths\", axis = 1), deaths_df[\"deaths\"]"
   ]
  },
  {
   "cell_type": "markdown",
   "id": "9291189d",
   "metadata": {},
   "source": [
    "Transform the data using the pipeline from cell 5 and keep the feature names."
   ]
  },
  {
   "cell_type": "code",
   "execution_count": 7,
   "id": "0db433bf",
   "metadata": {},
   "outputs": [],
   "source": [
    "feature_names = X.columns\n",
    "X_norm_interaction = pipeline.fit_transform(X)\n",
    "\n",
    "poly_feature_names = pipeline.named_steps['poly'].get_feature_names_out(feature_names)\n",
    "X_norm_interaction = pd.DataFrame(X_norm_interaction, columns=[\"Intercept\"] + list(poly_feature_names[1:]))"
   ]
  },
  {
   "cell_type": "markdown",
   "id": "7138973d",
   "metadata": {},
   "source": [
    "Fit a linear model to the data."
   ]
  },
  {
   "cell_type": "code",
   "execution_count": 8,
   "id": "e5762f00",
   "metadata": {
    "scrolled": false
   },
   "outputs": [
    {
     "data": {
      "text/html": [
       "<table class=\"simpletable\">\n",
       "<tr>\n",
       "        <td>Model:</td>               <td>OLS</td>         <td>Adj. R-squared:</td>      <td>0.351</td>  \n",
       "</tr>\n",
       "<tr>\n",
       "  <td>Dependent Variable:</td>      <td>deaths</td>             <td>AIC:</td>         <td>68001.9745</td>\n",
       "</tr>\n",
       "<tr>\n",
       "         <td>Date:</td>        <td>2023-03-31 20:24</td>        <td>BIC:</td>         <td>68052.2192</td>\n",
       "</tr>\n",
       "<tr>\n",
       "   <td>No. Observations:</td>        <td>9680</td>         <td>Log-Likelihood:</td>     <td>-33994.</td> \n",
       "</tr>\n",
       "<tr>\n",
       "       <td>Df Model:</td>              <td>6</td>           <td>F-statistic:</td>        <td>871.7</td>  \n",
       "</tr>\n",
       "<tr>\n",
       "     <td>Df Residuals:</td>          <td>9673</td>       <td>Prob (F-statistic):</td>    <td>0.00</td>   \n",
       "</tr>\n",
       "<tr>\n",
       "      <td>R-squared:</td>            <td>0.351</td>            <td>Scale:</td>          <td>65.785</td>  \n",
       "</tr>\n",
       "</table>\n",
       "<table class=\"simpletable\">\n",
       "<tr>\n",
       "                    <td></td>                     <th>Coef.</th>  <th>Std.Err.</th>     <th>t</th>     <th>P>|t|</th> <th>[0.025</th>  <th>0.975]</th> \n",
       "</tr>\n",
       "<tr>\n",
       "  <th>Intercept</th>                             <td>29.4273</td>  <td>0.0824</td>  <td>356.9629</td> <td>0.0000</td> <td>29.2657</td> <td>29.5889</td>\n",
       "</tr>\n",
       "<tr>\n",
       "  <th>isolation-chance</th>                      <td>-5.6135</td>  <td>0.0824</td>  <td>-68.0933</td> <td>0.0000</td> <td>-5.7751</td> <td>-5.4519</td>\n",
       "</tr>\n",
       "<tr>\n",
       "  <th>vaccination-start</th>                     <td>1.8943</td>   <td>0.0824</td>   <td>22.9791</td> <td>0.0000</td> <td>1.7328</td>  <td>2.0559</td> \n",
       "</tr>\n",
       "<tr>\n",
       "  <th>wearing-mask-chance</th>                   <td>-0.6286</td>  <td>0.0824</td>   <td>-7.6251</td> <td>0.0000</td> <td>-0.7902</td> <td>-0.4670</td>\n",
       "</tr>\n",
       "<tr>\n",
       "  <th>isolation-chance vaccination-start</th>    <td>-0.1352</td>  <td>0.0824</td>   <td>-1.6398</td> <td>0.1011</td> <td>-0.2968</td> <td>0.0264</td> \n",
       "</tr>\n",
       "<tr>\n",
       "  <th>isolation-chance wearing-mask-chance</th>  <td>-0.1486</td>  <td>0.0824</td>   <td>-1.8030</td> <td>0.0714</td> <td>-0.3102</td> <td>0.0130</td> \n",
       "</tr>\n",
       "<tr>\n",
       "  <th>vaccination-start wearing-mask-chance</th> <td>-0.0894</td>  <td>0.0824</td>   <td>-1.0847</td> <td>0.2781</td> <td>-0.2510</td> <td>0.0722</td> \n",
       "</tr>\n",
       "</table>\n",
       "<table class=\"simpletable\">\n",
       "<tr>\n",
       "     <td>Omnibus:</td>    <td>401.802</td>  <td>Durbin-Watson:</td>    <td>0.864</td> \n",
       "</tr>\n",
       "<tr>\n",
       "  <td>Prob(Omnibus):</td>  <td>0.000</td>  <td>Jarque-Bera (JB):</td> <td>452.936</td>\n",
       "</tr>\n",
       "<tr>\n",
       "       <td>Skew:</td>     <td>-0.529</td>      <td>Prob(JB):</td>      <td>0.000</td> \n",
       "</tr>\n",
       "<tr>\n",
       "     <td>Kurtosis:</td>    <td>3.075</td>   <td>Condition No.:</td>      <td>1</td>   \n",
       "</tr>\n",
       "</table>"
      ],
      "text/plain": [
       "<class 'statsmodels.iolib.summary2.Summary'>\n",
       "\"\"\"\n",
       "                           Results: Ordinary least squares\n",
       "======================================================================================\n",
       "Model:                     OLS                    Adj. R-squared:           0.351     \n",
       "Dependent Variable:        deaths                 AIC:                      68001.9745\n",
       "Date:                      2023-03-31 20:24       BIC:                      68052.2192\n",
       "No. Observations:          9680                   Log-Likelihood:           -33994.   \n",
       "Df Model:                  6                      F-statistic:              871.7     \n",
       "Df Residuals:              9673                   Prob (F-statistic):       0.00      \n",
       "R-squared:                 0.351                  Scale:                    65.785    \n",
       "--------------------------------------------------------------------------------------\n",
       "                                       Coef.  Std.Err.    t     P>|t|   [0.025  0.975]\n",
       "--------------------------------------------------------------------------------------\n",
       "Intercept                             29.4273   0.0824 356.9629 0.0000 29.2657 29.5889\n",
       "isolation-chance                      -5.6135   0.0824 -68.0933 0.0000 -5.7751 -5.4519\n",
       "vaccination-start                      1.8943   0.0824  22.9791 0.0000  1.7328  2.0559\n",
       "wearing-mask-chance                   -0.6286   0.0824  -7.6251 0.0000 -0.7902 -0.4670\n",
       "isolation-chance vaccination-start    -0.1352   0.0824  -1.6398 0.1011 -0.2968  0.0264\n",
       "isolation-chance wearing-mask-chance  -0.1486   0.0824  -1.8030 0.0714 -0.3102  0.0130\n",
       "vaccination-start wearing-mask-chance -0.0894   0.0824  -1.0847 0.2781 -0.2510  0.0722\n",
       "--------------------------------------------------------------------------------------\n",
       "Omnibus:                     401.802             Durbin-Watson:                0.864  \n",
       "Prob(Omnibus):               0.000               Jarque-Bera (JB):             452.936\n",
       "Skew:                        -0.529              Prob(JB):                     0.000  \n",
       "Kurtosis:                    3.075               Condition No.:                1      \n",
       "======================================================================================\n",
       "\n",
       "\"\"\""
      ]
     },
     "execution_count": 8,
     "metadata": {},
     "output_type": "execute_result"
    }
   ],
   "source": [
    "model_with_interaction = sm.OLS(y, X_norm_interaction).fit()\n",
    "model_with_interaction.summary2()"
   ]
  },
  {
   "cell_type": "markdown",
   "id": "7c57f085",
   "metadata": {},
   "source": [
    "It appears that all interaction features have insignificant coefficients. Therefore, we can remove them."
   ]
  },
  {
   "cell_type": "code",
   "execution_count": 9,
   "id": "e55547d2",
   "metadata": {},
   "outputs": [
    {
     "data": {
      "text/html": [
       "<table class=\"simpletable\">\n",
       "<tr>\n",
       "        <td>Model:</td>               <td>OLS</td>         <td>Adj. R-squared:</td>      <td>0.350</td>  \n",
       "</tr>\n",
       "<tr>\n",
       "  <td>Dependent Variable:</td>      <td>deaths</td>             <td>AIC:</td>         <td>68003.0935</td>\n",
       "</tr>\n",
       "<tr>\n",
       "         <td>Date:</td>        <td>2023-03-31 20:24</td>        <td>BIC:</td>         <td>68031.8048</td>\n",
       "</tr>\n",
       "<tr>\n",
       "   <td>No. Observations:</td>        <td>9680</td>         <td>Log-Likelihood:</td>     <td>-33998.</td> \n",
       "</tr>\n",
       "<tr>\n",
       "       <td>Df Model:</td>              <td>3</td>           <td>F-statistic:</td>        <td>1740.</td>  \n",
       "</tr>\n",
       "<tr>\n",
       "     <td>Df Residuals:</td>          <td>9676</td>       <td>Prob (F-statistic):</td>    <td>0.00</td>   \n",
       "</tr>\n",
       "<tr>\n",
       "      <td>R-squared:</td>            <td>0.350</td>            <td>Scale:</td>          <td>65.813</td>  \n",
       "</tr>\n",
       "</table>\n",
       "<table class=\"simpletable\">\n",
       "<tr>\n",
       "           <td></td>            <th>Coef.</th>  <th>Std.Err.</th>     <th>t</th>     <th>P>|t|</th> <th>[0.025</th>  <th>0.975]</th> \n",
       "</tr>\n",
       "<tr>\n",
       "  <th>Intercept</th>           <td>29.4273</td>  <td>0.0825</td>  <td>356.8870</td> <td>0.0000</td> <td>29.2656</td> <td>29.5889</td>\n",
       "</tr>\n",
       "<tr>\n",
       "  <th>isolation-chance</th>    <td>-5.6135</td>  <td>0.0825</td>  <td>-68.0788</td> <td>0.0000</td> <td>-5.7751</td> <td>-5.4518</td>\n",
       "</tr>\n",
       "<tr>\n",
       "  <th>vaccination-start</th>   <td>1.8943</td>   <td>0.0825</td>   <td>22.9742</td> <td>0.0000</td> <td>1.7327</td>  <td>2.0560</td> \n",
       "</tr>\n",
       "<tr>\n",
       "  <th>wearing-mask-chance</th> <td>-0.6286</td>  <td>0.0825</td>   <td>-7.6235</td> <td>0.0000</td> <td>-0.7902</td> <td>-0.4670</td>\n",
       "</tr>\n",
       "</table>\n",
       "<table class=\"simpletable\">\n",
       "<tr>\n",
       "     <td>Omnibus:</td>    <td>404.758</td>  <td>Durbin-Watson:</td>    <td>0.863</td> \n",
       "</tr>\n",
       "<tr>\n",
       "  <td>Prob(Omnibus):</td>  <td>0.000</td>  <td>Jarque-Bera (JB):</td> <td>456.602</td>\n",
       "</tr>\n",
       "<tr>\n",
       "       <td>Skew:</td>     <td>-0.530</td>      <td>Prob(JB):</td>      <td>0.000</td> \n",
       "</tr>\n",
       "<tr>\n",
       "     <td>Kurtosis:</td>    <td>3.082</td>   <td>Condition No.:</td>      <td>1</td>   \n",
       "</tr>\n",
       "</table>"
      ],
      "text/plain": [
       "<class 'statsmodels.iolib.summary2.Summary'>\n",
       "\"\"\"\n",
       "                  Results: Ordinary least squares\n",
       "====================================================================\n",
       "Model:               OLS              Adj. R-squared:     0.350     \n",
       "Dependent Variable:  deaths           AIC:                68003.0935\n",
       "Date:                2023-03-31 20:24 BIC:                68031.8048\n",
       "No. Observations:    9680             Log-Likelihood:     -33998.   \n",
       "Df Model:            3                F-statistic:        1740.     \n",
       "Df Residuals:        9676             Prob (F-statistic): 0.00      \n",
       "R-squared:           0.350            Scale:              65.813    \n",
       "--------------------------------------------------------------------\n",
       "                     Coef.  Std.Err.    t     P>|t|   [0.025  0.975]\n",
       "--------------------------------------------------------------------\n",
       "Intercept           29.4273   0.0825 356.8870 0.0000 29.2656 29.5889\n",
       "isolation-chance    -5.6135   0.0825 -68.0788 0.0000 -5.7751 -5.4518\n",
       "vaccination-start    1.8943   0.0825  22.9742 0.0000  1.7327  2.0560\n",
       "wearing-mask-chance -0.6286   0.0825  -7.6235 0.0000 -0.7902 -0.4670\n",
       "--------------------------------------------------------------------\n",
       "Omnibus:               404.758       Durbin-Watson:          0.863  \n",
       "Prob(Omnibus):         0.000         Jarque-Bera (JB):       456.602\n",
       "Skew:                  -0.530        Prob(JB):               0.000  \n",
       "Kurtosis:              3.082         Condition No.:          1      \n",
       "====================================================================\n",
       "\n",
       "\"\"\""
      ]
     },
     "execution_count": 9,
     "metadata": {},
     "output_type": "execute_result"
    }
   ],
   "source": [
    "X_norm = X_norm_interaction.iloc[:, :4]\n",
    "model = sm.OLS(y, X_norm).fit()\n",
    "model.summary2()"
   ]
  },
  {
   "cell_type": "markdown",
   "id": "3fdaa3bc",
   "metadata": {},
   "source": [
    "All coefficients are significant and the F-statistic is crazy high. Therefore, the whole model is significantly better than the null model. We can see that the adjusted $R^2$ value is only 0.35, which is not very good but is also not necessarily horrible ;)"
   ]
  },
  {
   "cell_type": "markdown",
   "id": "c63f6b69",
   "metadata": {},
   "source": [
    "To further analyse the linear model that we have constructed, we will take a look at the residuals."
   ]
  },
  {
   "cell_type": "code",
   "execution_count": 10,
   "id": "e3846aed",
   "metadata": {
    "scrolled": true
   },
   "outputs": [
    {
     "data": {
      "image/png": "[encoded data removed]",
      "text/plain": [
       "<Figure size 640x480 with 1 Axes>"
      ]
     },
     "metadata": {},
     "output_type": "display_data"
    }
   ],
   "source": [
    "plt.scatter(model.predict(X_norm), model.resid, s = 1)\n",
    "plt.xlabel('Fitted values')\n",
    "plt.ylabel('Residuals')\n",
    "plt.title('Residual plot')\n",
    "plt.axhline(y = 0, c = \"red\")\n",
    "plt.show()"
   ]
  },
  {
   "cell_type": "code",
   "execution_count": 11,
   "id": "5ad6f47b",
   "metadata": {},
   "outputs": [
    {
     "data": {
      "image/png": "[encoded data removed]",
      "text/plain": [
       "<Figure size 640x480 with 1 Axes>"
      ]
     },
     "metadata": {},
     "output_type": "display_data"
    }
   ],
   "source": [
    "plt.hist(model.resid)\n",
    "plt.ylabel(\"Count\")\n",
    "plt.title(\"Distribution of residuals\")\n",
    "plt.xlabel(\"Residual value\")\n",
    "plt.show()"
   ]
  },
  {
   "cell_type": "markdown",
   "id": "071e2dfd",
   "metadata": {},
   "source": [
    "It appears that the residuals are skewed to the right."
   ]
  },
  {
   "cell_type": "code",
   "execution_count": 12,
   "id": "c12be087",
   "metadata": {},
   "outputs": [],
   "source": [
    "from statsmodels.graphics.gofplots import qqplot"
   ]
  },
  {
   "cell_type": "code",
   "execution_count": 13,
   "id": "ec9f0f19",
   "metadata": {},
   "outputs": [
    {
     "data": {
      "text/plain": [
       "-4.8105504887163145e-14"
      ]
     },
     "execution_count": 13,
     "metadata": {},
     "output_type": "execute_result"
    }
   ],
   "source": [
    "model.resid.mean()"
   ]
  },
  {
   "cell_type": "code",
   "execution_count": 14,
   "id": "e10e2a58",
   "metadata": {},
   "outputs": [
    {
     "data": {
      "image/png": "[encoded data removed]",
      "text/plain": [
       "<Figure size 640x480 with 1 Axes>"
      ]
     },
     "metadata": {},
     "output_type": "display_data"
    }
   ],
   "source": [
    "qqplot(model.resid, line = 's')\n",
    "plt.title(\"Residuals QQ-plot\")\n",
    "plt.show()"
   ]
  },
  {
   "cell_type": "code",
   "execution_count": 15,
   "id": "11cfd9f9",
   "metadata": {},
   "outputs": [
    {
     "data": {
      "image/png": "[encoded data removed]",
      "text/plain": [
       "<Figure size 640x480 with 1 Axes>"
      ]
     },
     "metadata": {},
     "output_type": "display_data"
    }
   ],
   "source": [
    "plt.hist(y, bins = 20)\n",
    "plt.title(\"Distribution of Lethal Cases\")\n",
    "plt.ylabel(\"Count\")\n",
    "plt.xlabel(\"Lethal Cases\")\n",
    "plt.savefig(\"deaths.pdf\")\n",
    "plt.show()"
   ]
  },
  {
   "cell_type": "markdown",
   "id": "41455195",
   "metadata": {},
   "source": [
    "The skew of the residuals is likely caused by the combinations of features that were very effective and achieved really low number of deaths."
   ]
  },
  {
   "cell_type": "code",
   "execution_count": 16,
   "id": "a287bcf8",
   "metadata": {},
   "outputs": [],
   "source": [
    "from scipy.stats import shapiro"
   ]
  },
  {
   "cell_type": "code",
   "execution_count": 17,
   "id": "52cf6f7f",
   "metadata": {},
   "outputs": [
    {
     "name": "stderr",
     "output_type": "stream",
     "text": [
      "/home/ivaylo/.local/lib/python3.10/site-packages/scipy/stats/_morestats.py:1816: UserWarning: p-value may not be accurate for N > 5000.\n",
      "  warnings.warn(\"p-value may not be accurate for N > 5000.\")\n"
     ]
    },
    {
     "data": {
      "text/plain": [
       "ShapiroResult(statistic=0.9742851257324219, pvalue=2.1532478319676928e-38)"
      ]
     },
     "execution_count": 17,
     "metadata": {},
     "output_type": "execute_result"
    }
   ],
   "source": [
    "shapiro(model.resid)"
   ]
  },
  {
   "cell_type": "markdown",
   "id": "c1ccad2f",
   "metadata": {},
   "source": [
    "It appears that the residuals are not normally distributed. We can try to compensate for that by removing all simulations with very few lethal cases."
   ]
  },
  {
   "cell_type": "code",
   "execution_count": 18,
   "id": "0540f7e2",
   "metadata": {},
   "outputs": [
    {
     "data": {
      "text/plain": [
       "(8770, 9680)"
      ]
     },
     "execution_count": 18,
     "metadata": {},
     "output_type": "execute_result"
    }
   ],
   "source": [
    "deaths_df_filtered = deaths_df[deaths_df[\"deaths\"] > 10].reset_index(drop = True)\n",
    "len(deaths_df_filtered), len(deaths_df)"
   ]
  },
  {
   "cell_type": "code",
   "execution_count": 19,
   "id": "9b2b853d",
   "metadata": {},
   "outputs": [
    {
     "data": {
      "image/png": "[encoded data removed]",
      "text/plain": [
       "<Figure size 640x480 with 1 Axes>"
      ]
     },
     "metadata": {},
     "output_type": "display_data"
    }
   ],
   "source": [
    "plt.hist(deaths_df_filtered[\"deaths\"], bins = 15)\n",
    "plt.title(\"Distribution of deaths on the filtered dataset\")\n",
    "plt.show()"
   ]
  },
  {
   "cell_type": "markdown",
   "id": "6cdd5804",
   "metadata": {},
   "source": [
    "Now the lethal cases seem much more normally distributed. We can again run the same linear model."
   ]
  },
  {
   "cell_type": "code",
   "execution_count": 20,
   "id": "283bb42f",
   "metadata": {},
   "outputs": [],
   "source": [
    "X, y = deaths_df_filtered.drop(\"deaths\", axis = \"columns\"), deaths_df_filtered[\"deaths\"]"
   ]
  },
  {
   "cell_type": "code",
   "execution_count": 21,
   "id": "795a6733",
   "metadata": {},
   "outputs": [],
   "source": [
    "scaler = StandardScaler()\n",
    "X_norm = scaler.fit_transform(X)"
   ]
  },
  {
   "cell_type": "code",
   "execution_count": 22,
   "id": "a1fb289f",
   "metadata": {},
   "outputs": [],
   "source": [
    "X_norm = pd.DataFrame(X_norm, columns = scaler.get_feature_names_out(input_features = X.columns))\n",
    "X_norm.insert(0, 'intercept', 1)"
   ]
  },
  {
   "cell_type": "code",
   "execution_count": 23,
   "id": "ce8922b8",
   "metadata": {},
   "outputs": [
    {
     "data": {
      "text/html": [
       "<table class=\"simpletable\">\n",
       "<tr>\n",
       "        <td>Model:</td>               <td>OLS</td>         <td>Adj. R-squared:</td>      <td>0.205</td>  \n",
       "</tr>\n",
       "<tr>\n",
       "  <td>Dependent Variable:</td>      <td>deaths</td>             <td>AIC:</td>         <td>54425.3734</td>\n",
       "</tr>\n",
       "<tr>\n",
       "         <td>Date:</td>        <td>2023-03-31 20:24</td>        <td>BIC:</td>         <td>54453.6897</td>\n",
       "</tr>\n",
       "<tr>\n",
       "   <td>No. Observations:</td>        <td>8770</td>         <td>Log-Likelihood:</td>     <td>-27209.</td> \n",
       "</tr>\n",
       "<tr>\n",
       "       <td>Df Model:</td>              <td>3</td>           <td>F-statistic:</td>        <td>754.7</td>  \n",
       "</tr>\n",
       "<tr>\n",
       "     <td>Df Residuals:</td>          <td>8766</td>       <td>Prob (F-statistic):</td>    <td>0.00</td>   \n",
       "</tr>\n",
       "<tr>\n",
       "      <td>R-squared:</td>            <td>0.205</td>            <td>Scale:</td>          <td>29.007</td>  \n",
       "</tr>\n",
       "</table>\n",
       "<table class=\"simpletable\">\n",
       "<tr>\n",
       "           <td></td>            <th>Coef.</th>  <th>Std.Err.</th>     <th>t</th>     <th>P>|t|</th> <th>[0.025</th>  <th>0.975]</th> \n",
       "</tr>\n",
       "<tr>\n",
       "  <th>intercept</th>           <td>32.0803</td>  <td>0.0575</td>  <td>557.8137</td> <td>0.0000</td> <td>31.9675</td> <td>32.1930</td>\n",
       "</tr>\n",
       "<tr>\n",
       "  <th>isolation-chance</th>    <td>-1.7958</td>  <td>0.0575</td>  <td>-31.2239</td> <td>0.0000</td> <td>-1.9085</td> <td>-1.6830</td>\n",
       "</tr>\n",
       "<tr>\n",
       "  <th>vaccination-start</th>   <td>1.9727</td>   <td>0.0575</td>   <td>34.3005</td> <td>0.0000</td> <td>1.8600</td>  <td>2.0854</td> \n",
       "</tr>\n",
       "<tr>\n",
       "  <th>wearing-mask-chance</th> <td>-0.6553</td>  <td>0.0575</td>  <td>-11.3952</td> <td>0.0000</td> <td>-0.7681</td> <td>-0.5426</td>\n",
       "</tr>\n",
       "</table>\n",
       "<table class=\"simpletable\">\n",
       "<tr>\n",
       "     <td>Omnibus:</td>    <td>21.988</td>  <td>Durbin-Watson:</td>    <td>1.961</td>\n",
       "</tr>\n",
       "<tr>\n",
       "  <td>Prob(Omnibus):</td>  <td>0.000</td> <td>Jarque-Bera (JB):</td> <td>23.795</td>\n",
       "</tr>\n",
       "<tr>\n",
       "       <td>Skew:</td>      <td>0.087</td>     <td>Prob(JB):</td>      <td>0.000</td>\n",
       "</tr>\n",
       "<tr>\n",
       "     <td>Kurtosis:</td>    <td>3.187</td>  <td>Condition No.:</td>      <td>1</td>  \n",
       "</tr>\n",
       "</table>"
      ],
      "text/plain": [
       "<class 'statsmodels.iolib.summary2.Summary'>\n",
       "\"\"\"\n",
       "                  Results: Ordinary least squares\n",
       "====================================================================\n",
       "Model:               OLS              Adj. R-squared:     0.205     \n",
       "Dependent Variable:  deaths           AIC:                54425.3734\n",
       "Date:                2023-03-31 20:24 BIC:                54453.6897\n",
       "No. Observations:    8770             Log-Likelihood:     -27209.   \n",
       "Df Model:            3                F-statistic:        754.7     \n",
       "Df Residuals:        8766             Prob (F-statistic): 0.00      \n",
       "R-squared:           0.205            Scale:              29.007    \n",
       "--------------------------------------------------------------------\n",
       "                     Coef.  Std.Err.    t     P>|t|   [0.025  0.975]\n",
       "--------------------------------------------------------------------\n",
       "intercept           32.0803   0.0575 557.8137 0.0000 31.9675 32.1930\n",
       "isolation-chance    -1.7958   0.0575 -31.2239 0.0000 -1.9085 -1.6830\n",
       "vaccination-start    1.9727   0.0575  34.3005 0.0000  1.8600  2.0854\n",
       "wearing-mask-chance -0.6553   0.0575 -11.3952 0.0000 -0.7681 -0.5426\n",
       "--------------------------------------------------------------------\n",
       "Omnibus:               21.988        Durbin-Watson:           1.961 \n",
       "Prob(Omnibus):         0.000         Jarque-Bera (JB):        23.795\n",
       "Skew:                  0.087         Prob(JB):                0.000 \n",
       "Kurtosis:              3.187         Condition No.:           1     \n",
       "====================================================================\n",
       "\n",
       "\"\"\""
      ]
     },
     "execution_count": 23,
     "metadata": {},
     "output_type": "execute_result"
    }
   ],
   "source": [
    "model = sm.OLS(y, X_norm).fit()\n",
    "model.summary2()"
   ]
  },
  {
   "cell_type": "markdown",
   "id": "026805e6",
   "metadata": {},
   "source": [
    "The $R^2$ value is worse so idk."
   ]
  },
  {
   "cell_type": "code",
   "execution_count": 24,
   "id": "c0764ce7",
   "metadata": {},
   "outputs": [
    {
     "name": "stderr",
     "output_type": "stream",
     "text": [
      "/home/ivaylo/.local/lib/python3.10/site-packages/scipy/stats/_morestats.py:1816: UserWarning: p-value may not be accurate for N > 5000.\n",
      "  warnings.warn(\"p-value may not be accurate for N > 5000.\")\n"
     ]
    },
    {
     "data": {
      "text/plain": [
       "ShapiroResult(statistic=0.9990995526313782, pvalue=0.00010823114280356094)"
      ]
     },
     "execution_count": 24,
     "metadata": {},
     "output_type": "execute_result"
    }
   ],
   "source": [
    "shapiro(model.resid)"
   ]
  }
 ],
 "metadata": {
  "kernelspec": {
   "display_name": "Python 3 (ipykernel)",
   "language": "python",
   "name": "python3"
  },
  "language_info": {
   "codemirror_mode": {
    "name": "ipython",
    "version": 3
   },
   "file_extension": ".py",
   "mimetype": "text/x-python",
   "name": "python",
   "nbconvert_exporter": "python",
   "pygments_lexer": "ipython3",
   "version": "3.10.6"
  }
 },
 "nbformat": 4,
 "nbformat_minor": 5
}
